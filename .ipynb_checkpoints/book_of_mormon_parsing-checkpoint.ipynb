{
 "cells": [
  {
   "cell_type": "code",
   "execution_count": 1,
   "metadata": {
    "collapsed": true
   },
   "outputs": [],
   "source": [
    "import os\n",
    "import re\n",
    "with open('bom.txt') as f:\n",
    "    lines = f.readlines()\n",
    "output_dir = './chapters'"
   ]
  },
  {
   "cell_type": "code",
   "execution_count": 2,
   "metadata": {
    "collapsed": false
   },
   "outputs": [],
   "source": [
    "def write_chapters(chapters,regex,filename_format):\n",
    "    chapter_pattern = re.compile(regex)\n",
    "    chapter_starts = []\n",
    "    chapter_ends = []\n",
    "    for i, line in enumerate(chapters):\n",
    "        if chapter_pattern.match(line):\n",
    "            chapter_starts.append(i)\n",
    "    chapter_starts.append(i)\n",
    "    for i,(start,end) in enumerate(zip(chapter_starts,chapter_starts[1:])):\n",
    "        filename = os.path.join(output_dir,filename_format.format(i+1))\n",
    "        with open(filename,'w') as f:\n",
    "            f.writelines(chapters[start:end])"
   ]
  },
  {
   "cell_type": "code",
   "execution_count": 3,
   "metadata": {
    "collapsed": false
   },
   "outputs": [],
   "source": [
    "gutenberg_intro = lines[:24]\n",
    "with open(os.path.join(output_dir,'gutenberg_intro.txt'),'w') as f:\n",
    "    f.writelines(gutenberg_intro)"
   ]
  },
  {
   "cell_type": "code",
   "execution_count": 4,
   "metadata": {
    "collapsed": false
   },
   "outputs": [],
   "source": [
    "bom_intro = lines[24:133]\n",
    "with open(os.path.join(output_dir,'bom_intro.txt'),'w') as f:\n",
    "    f.writelines(bom_intro)"
   ]
  },
  {
   "cell_type": "code",
   "execution_count": 5,
   "metadata": {
    "collapsed": false
   },
   "outputs": [],
   "source": [
    "first_nephi_intro = lines[133:152]\n",
    "with open(os.path.join(output_dir,'00_1_Nephi_00.txt'),'w') as f:\n",
    "    f.writelines(first_nephi_intro)"
   ]
  },
  {
   "cell_type": "code",
   "execution_count": 6,
   "metadata": {
    "collapsed": false
   },
   "outputs": [],
   "source": [
    "first_nephi_chapters = lines[152:3835]\n",
    "write_chapters(first_nephi_chapters,\"1 Nephi \\d+[^:\\w]\",\"00_1_Nephi_{:02d}.txt\")"
   ]
  },
  {
   "cell_type": "code",
   "execution_count": 7,
   "metadata": {
    "collapsed": false
   },
   "outputs": [],
   "source": [
    "second_nephi_intro = lines[3835:3841]\n",
    "with open(os.path.join(output_dir,'01_2_Nephi_00.txt'),'w') as f:\n",
    "    f.writelines(second_nephi_intro)"
   ]
  },
  {
   "cell_type": "code",
   "execution_count": 8,
   "metadata": {
    "collapsed": false
   },
   "outputs": [],
   "source": [
    "second_nephi_chapters = lines[3841:8342]\n",
    "write_chapters(second_nephi_chapters,\"2 Nephi \\d+[^:\\w]\",\"01_2_Nephi_{:02d}.txt\")"
   ]
  },
  {
   "cell_type": "code",
   "execution_count": 9,
   "metadata": {
    "collapsed": false
   },
   "outputs": [],
   "source": [
    "jacob_intro = lines[8342:8350]\n",
    "with open(os.path.join(output_dir,'02_Jacob_00.txt'),'w') as f:\n",
    "    f.writelines(jacob_intro)"
   ]
  },
  {
   "cell_type": "code",
   "execution_count": 10,
   "metadata": {
    "collapsed": false
   },
   "outputs": [],
   "source": [
    "jacob_chapters = lines[8350:9659]\n",
    "write_chapters(jacob_chapters,\"Jacob \\d+[^:\\w]\",\"02_Jacob_{:02d}.txt\")"
   ]
  },
  {
   "cell_type": "code",
   "execution_count": 11,
   "metadata": {
    "collapsed": false
   },
   "outputs": [],
   "source": [
    "enos = lines[9659:9827]\n",
    "with open(os.path.join(output_dir,'03_Enos_00.txt'),'w') as f:\n",
    "    f.writelines(enos)"
   ]
  },
  {
   "cell_type": "code",
   "execution_count": 12,
   "metadata": {
    "collapsed": false
   },
   "outputs": [],
   "source": [
    "jarom = lines[9827:9934]\n",
    "with open(os.path.join(output_dir,'04_Jarom_00.txt'),'w') as f:\n",
    "    f.writelines(jarom)"
   ]
  },
  {
   "cell_type": "code",
   "execution_count": 13,
   "metadata": {
    "collapsed": false
   },
   "outputs": [],
   "source": [
    "omni = lines[9934:10136]\n",
    "with open(os.path.join(output_dir,'05_Omni_00.txt'),'w') as f:\n",
    "    f.writelines(omni)"
   ]
  },
  {
   "cell_type": "code",
   "execution_count": 14,
   "metadata": {
    "collapsed": false
   },
   "outputs": [],
   "source": [
    "words_of_mormon = lines[10136:10259]\n",
    "with open(os.path.join(output_dir,'06_Words_of_Mormon_00.txt'),'w') as f:\n",
    "    f.writelines(words_of_mormon)"
   ]
  },
  {
   "cell_type": "code",
   "execution_count": 15,
   "metadata": {
    "collapsed": false
   },
   "outputs": [],
   "source": [
    "mosiah_intro = lines[10259:10261]\n",
    "with open(os.path.join(output_dir,'07_Mosiah_00.txt'),'w') as f:\n",
    "    f.writelines(mosiah_intro)"
   ]
  },
  {
   "cell_type": "code",
   "execution_count": 16,
   "metadata": {
    "collapsed": false
   },
   "outputs": [],
   "source": [
    "mosiah_chapters = lines[10261:14935]\n",
    "write_chapters(mosiah_chapters,\"Mosiah \\d+[^:\\w]\",\"07_Mosiah_{:02d}.txt\")"
   ]
  },
  {
   "cell_type": "code",
   "execution_count": 17,
   "metadata": {
    "collapsed": false
   },
   "outputs": [],
   "source": [
    "alma_intro = lines[14935:14946]\n",
    "with open(os.path.join(output_dir,'08_Alma_00.txt'),'w') as f:\n",
    "    f.writelines(alma_intro)"
   ]
  },
  {
   "cell_type": "code",
   "execution_count": 18,
   "metadata": {
    "collapsed": false
   },
   "outputs": [],
   "source": [
    "alma_chapters = lines[14946:27267]\n",
    "write_chapters(alma_chapters,\"Alma \\d+[^:\\w]\",\"08_Alma_{:02d}.txt\")"
   ]
  },
  {
   "cell_type": "code",
   "execution_count": 19,
   "metadata": {
    "collapsed": false
   },
   "outputs": [],
   "source": [
    "helaman_intro = lines[27267:27280]\n",
    "with open(os.path.join(output_dir,'09_Helaman_00.txt'),'w') as f:\n",
    "    f.writelines(helaman_intro)"
   ]
  },
  {
   "cell_type": "code",
   "execution_count": 20,
   "metadata": {
    "collapsed": false
   },
   "outputs": [],
   "source": [
    "helaman_chapters = lines[27280:30311]\n",
    "write_chapters(helaman_chapters,\"Helaman \\d+[^:\\w]\",\"09_Helaman_{:02d}.txt\")"
   ]
  },
  {
   "cell_type": "code",
   "execution_count": 21,
   "metadata": {
    "collapsed": false
   },
   "outputs": [],
   "source": [
    "third_nephi_intro = lines[30311:30320]\n",
    "with open(os.path.join(output_dir,'10_3_Nephi_00.txt'),'w') as f:\n",
    "    f.writelines(third_nephi_intro)"
   ]
  },
  {
   "cell_type": "code",
   "execution_count": 22,
   "metadata": {
    "collapsed": false
   },
   "outputs": [],
   "source": [
    "third_nephi_chapters = lines[30320:34773]\n",
    "write_chapters(third_nephi_chapters,\"3 Nephi \\d+[^:\\w]\",\"10_3_Nephi_{:02d}.txt\")"
   ]
  },
  {
   "cell_type": "code",
   "execution_count": 23,
   "metadata": {
    "collapsed": false
   },
   "outputs": [],
   "source": [
    "fourth_nephi = lines[34773:35073]\n",
    "with open(os.path.join(output_dir,'11_4_Nephi_00.txt'),'w') as f:\n",
    "    f.writelines(fourth_nephi)"
   ]
  },
  {
   "cell_type": "code",
   "execution_count": 24,
   "metadata": {
    "collapsed": false
   },
   "outputs": [],
   "source": [
    "mormon_intro = lines[35073:35075]\n",
    "with open(os.path.join(output_dir,'12_Mormon_00.txt'),'w') as f:\n",
    "    f.writelines(mormon_intro)"
   ]
  },
  {
   "cell_type": "code",
   "execution_count": 25,
   "metadata": {
    "collapsed": false
   },
   "outputs": [],
   "source": [
    "mormon_chapters = lines[35075:36463]\n",
    "write_chapters(mormon_chapters,\"Mormon \\d+[^:\\w]\",\"12_Mormon_{:02d}.txt\")"
   ]
  },
  {
   "cell_type": "code",
   "execution_count": 26,
   "metadata": {
    "collapsed": false
   },
   "outputs": [],
   "source": [
    "ether_intro = lines[36463:36468]\n",
    "with open(os.path.join(output_dir,'13_Ether_00.txt'),'w') as f:\n",
    "    f.writelines(ether_intro)"
   ]
  },
  {
   "cell_type": "code",
   "execution_count": 27,
   "metadata": {
    "collapsed": false
   },
   "outputs": [],
   "source": [
    "ether_chapters = lines[36468:38970]\n",
    "write_chapters(ether_chapters,\"Ether \\d+[^:\\w]\",\"13_Ether_{:02d}.txt\")"
   ]
  },
  {
   "cell_type": "code",
   "execution_count": 28,
   "metadata": {
    "collapsed": false
   },
   "outputs": [],
   "source": [
    "moroni_intro = lines[38970:38972]\n",
    "with open(os.path.join(output_dir,'14_Moroni_00.txt'),'w') as f:\n",
    "    f.writelines(moroni_intro)"
   ]
  },
  {
   "cell_type": "code",
   "execution_count": 29,
   "metadata": {
    "collapsed": false
   },
   "outputs": [],
   "source": [
    "moroni_chapters = lines[38972:39924]\n",
    "write_chapters(moroni_chapters,\"Moroni \\d+[^:\\w]\",\"14_Moroni_{:02d}.txt\")"
   ]
  },
  {
   "cell_type": "code",
   "execution_count": 30,
   "metadata": {
    "collapsed": true
   },
   "outputs": [],
   "source": [
    "gutenberg_outro = lines[39924:]\n",
    "with open(os.path.join(output_dir,'gutenberg_outro.txt'),'w') as f:\n",
    "    f.writelines(gutenberg_outro)"
   ]
  }
 ],
 "metadata": {
  "kernelspec": {
   "display_name": "Python 2",
   "language": "python",
   "name": "python2"
  },
  "language_info": {
   "codemirror_mode": {
    "name": "ipython",
    "version": 2
   },
   "file_extension": ".py",
   "mimetype": "text/x-python",
   "name": "python",
   "nbconvert_exporter": "python",
   "pygments_lexer": "ipython2",
   "version": "2.7.9"
  }
 },
 "nbformat": 4,
 "nbformat_minor": 0
}
